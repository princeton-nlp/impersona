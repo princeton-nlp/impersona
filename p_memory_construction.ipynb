{
 "cells": [
  {
   "cell_type": "markdown",
   "metadata": {},
   "source": [
    "## Memory Module Construction\n",
    "\n",
    "Essentially a searchable summarizer of all conversations."
   ]
  },
  {
   "cell_type": "code",
   "execution_count": 9,
   "metadata": {},
   "outputs": [],
   "source": [
    "from training_utils import load_and_sort_conversations\n",
    "from IMPersona.memory_module import MemoryModule\n",
    "import json"
   ]
  },
  {
   "cell_type": "code",
   "execution_count": 10,
   "metadata": {},
   "outputs": [
    {
     "name": "stdout",
     "output_type": "stream",
     "text": [
      "Loaded 5587 conversations with 5-300 messages\n",
      "Kept 5587 most recent conversations\n"
     ]
    }
   ],
   "source": [
    "directory = 'data/imessage/parsed_combined'\n",
    "recent_convos = load_and_sort_conversations(\n",
    "    directory, \n",
    "    num_conversations=6000, \n",
    "    min_messages=5,\n",
    "    max_messages=300,\n",
    ")\n",
    "recent_convos = list(reversed(recent_convos))"
   ]
  },
  {
   "cell_type": "code",
   "execution_count": 11,
   "metadata": {},
   "outputs": [
    {
     "name": "stdout",
     "output_type": "stream",
     "text": [
      "Total number of tokens: 3868564\n"
     ]
    }
   ],
   "source": [
    "import tiktoken\n",
    "\n",
    "# Initialize the tokenizer (using gpt-3.5-turbo's tokenizer as an example)\n",
    "encoding = tiktoken.get_encoding(\"cl100k_base\")  # This is the encoding used by gpt-3.5-turbo and gpt-4\n",
    "\n",
    "total_tokens = 0\n",
    "for conversation in recent_convos:\n",
    "    for message in conversation:\n",
    "        # Format each message as \"timestamp speaker: content\"\n",
    "        formatted_message = f\"{message['timestamp']} {message['speaker']}: {message['content']}\"\n",
    "        # Count tokens in the formatted message\n",
    "        num_tokens = len(encoding.encode(formatted_message))\n",
    "        total_tokens += num_tokens\n",
    "\n",
    "print(f\"Total number of tokens: {total_tokens}\")\n",
    "\n",
    "for idx, conversation in enumerate(recent_convos):\n",
    "    conversation_tokens = 0\n",
    "    for message in conversation:\n",
    "        formatted_message = f\"{message['timestamp']} {message['speaker']}: {message['content']}\"\n",
    "        num_tokens = len(encoding.encode(formatted_message))\n",
    "        conversation_tokens += num_tokens\n",
    "    \n",
    "    if conversation_tokens > 100000:\n",
    "        print(f\"Warning: Conversation {idx} exceeds token limit with {conversation_tokens} tokens\")"
   ]
  },
  {
   "cell_type": "code",
   "execution_count": 30,
   "metadata": {},
   "outputs": [],
   "source": [
    "with open('IMPersona/data/ben/conversation_store_full_5-300.json', 'w') as f:\n",
    "    json.dump(recent_convos, f)"
   ]
  },
  {
   "cell_type": "markdown",
   "metadata": {},
   "source": [
    "#### Processing Conversations ####"
   ]
  },
  {
   "cell_type": "code",
   "execution_count": 1,
   "metadata": {},
   "outputs": [],
   "source": [
    "from IMPersona.memory_module import MemoryModule\n",
    "import json\n",
    "import nest_asyncio \n",
    "nest_asyncio.apply()\n",
    "\n",
    "async def process_conversation_batch(memory, conversations, batch_size=100):\n",
    "    \"\"\"Process conversations in batches to avoid overwhelming the API\"\"\"\n",
    "    for i in range(0, len(conversations), batch_size):\n",
    "        batch = conversations[i:i + batch_size]\n",
    "        print(f\"\\n--- Processing Batch {i//batch_size + 1}, Conversations {i} to {i + len(batch)} ---\")\n",
    "        await memory.async_process_conversations(batch)\n",
    "        print(f\"\\nCurrent memory counts:\")\n",
    "        print(f\"Memories: {len(memory.memories)}\")"
   ]
  },
  {
   "cell_type": "code",
   "execution_count": null,
   "metadata": {},
   "outputs": [],
   "source": [
    "memory = MemoryModule(\n",
    "        conversation_store_file_path='IMPersona/data/ben/conversation_store_full_5-300.json',\n",
    "        impersonation_name=\"Ben\",\n",
    "        model_name=\"gpt-4o\",\n",
    "        memory_file_path=\"IMPersona/data/ben/memory_gpt_4o.json\",\n",
    "    )\n",
    "\n",
    "start_idx = 0\n",
    "end_idx = None # not inclusive\n",
    "batch_size = 100\n",
    "\n",
    "# Run the async processing\n",
    "try:\n",
    "    # Load conversations from the store\n",
    "    with open('IMPersona/data/ben/conversation_store_full_5-300.json', 'r') as f:\n",
    "        conversations = json.load(f)\n",
    "    \n",
    "    # Validate and adjust end_idx if needed\n",
    "    if end_idx is None:\n",
    "        end_idx = len(conversations)\n",
    "    end_idx = min(end_idx, len(conversations))\n",
    "        \n",
    "    print(f\"\\nFound {len(conversations)} total conversations\")\n",
    "    print(f\"Processing conversations from index {start_idx} to {end_idx}\")\n",
    "    \n",
    "    # Process the conversations asynchronously\n",
    "    selected_conversations = conversations[start_idx:end_idx]\n",
    "    await process_conversation_batch(memory, selected_conversations, batch_size=batch_size)  # Using await instead of asyncio.run()\n",
    "\n",
    "except Exception as e:\n",
    "    print(f\"Error: An unexpected error occurred: {str(e)}\")"
   ]
  },
  {
   "cell_type": "markdown",
   "metadata": {},
   "source": [
    "### Consolidate Memories: By Day"
   ]
  },
  {
   "cell_type": "code",
   "execution_count": 1,
   "metadata": {},
   "outputs": [],
   "source": [
    "from IMPersona.memory_module import MemoryModule\n",
    "\n",
    "# Initialize the memory module with your existing memory file\n",
    "memory_module = MemoryModule(\n",
    "    conversation_store_file_path=\"IMPersona/data/ben/conversation_store_full_5-300.json\",\n",
    "    impersonation_name=\"Ben\",  # or whatever name you're using\n",
    "    model_name=\"gpt-4o\",  # or whatever model you're using\n",
    "    memory_file_path=\"IMPersona/data/ben/memory_gpt_4o.json\"  # your current memory file\n",
    ")"
   ]
  },
  {
   "cell_type": "code",
   "execution_count": 2,
   "metadata": {},
   "outputs": [
    {
     "name": "stdout",
     "output_type": "stream",
     "text": [
      "Starting batched memory consolidation...\n",
      "Processing 62019 total memories...\n",
      "Grouped memories into 12385 distinct dates\n"
     ]
    },
    {
     "name": "stderr",
     "output_type": "stream",
     "text": [
      "Consolidating memories by date:   1%|          | 100/12385 [00:28<14:46:05,  4.33s/it]"
     ]
    },
    {
     "name": "stdout",
     "output_type": "stream",
     "text": [
      "\n",
      "Saving intermediate progress (139 memories so far)...\n"
     ]
    },
    {
     "name": "stderr",
     "output_type": "stream",
     "text": [
      "Consolidating memories by date:   2%|▏         | 300/12385 [00:51<1:16:43,  2.63it/s] "
     ]
    },
    {
     "name": "stdout",
     "output_type": "stream",
     "text": [
      "\n",
      "Saving intermediate progress (397 memories so far)...\n"
     ]
    },
    {
     "name": "stderr",
     "output_type": "stream",
     "text": [
      "Consolidating memories by date:   4%|▍         | 500/12385 [01:15<2:53:22,  1.14it/s]"
     ]
    },
    {
     "name": "stdout",
     "output_type": "stream",
     "text": [
      "\n",
      "Saving intermediate progress (665 memories so far)...\n"
     ]
    },
    {
     "name": "stderr",
     "output_type": "stream",
     "text": [
      "Consolidating memories by date:   6%|▌         | 700/12385 [01:45<3:55:35,  1.21s/it]"
     ]
    },
    {
     "name": "stdout",
     "output_type": "stream",
     "text": [
      "\n",
      "Saving intermediate progress (968 memories so far)...\n"
     ]
    },
    {
     "name": "stderr",
     "output_type": "stream",
     "text": [
      "Consolidating memories by date:   7%|▋         | 900/12385 [02:08<1:02:22,  3.07it/s]"
     ]
    },
    {
     "name": "stdout",
     "output_type": "stream",
     "text": [
      "\n",
      "Saving intermediate progress (1271 memories so far)...\n"
     ]
    },
    {
     "name": "stderr",
     "output_type": "stream",
     "text": [
      "Consolidating memories by date:   9%|▉         | 1100/12385 [02:28<39:19,  4.78it/s]  "
     ]
    },
    {
     "name": "stdout",
     "output_type": "stream",
     "text": [
      "\n",
      "Saving intermediate progress (1558 memories so far)...\n"
     ]
    },
    {
     "name": "stderr",
     "output_type": "stream",
     "text": [
      "Consolidating memories by date:  10%|█         | 1300/12385 [02:51<2:13:55,  1.38it/s]"
     ]
    },
    {
     "name": "stdout",
     "output_type": "stream",
     "text": [
      "\n",
      "Saving intermediate progress (1814 memories so far)...\n"
     ]
    },
    {
     "name": "stderr",
     "output_type": "stream",
     "text": [
      "Consolidating memories by date:  12%|█▏        | 1500/12385 [03:11<1:12:22,  2.51it/s]"
     ]
    },
    {
     "name": "stdout",
     "output_type": "stream",
     "text": [
      "\n",
      "Saving intermediate progress (2074 memories so far)...\n"
     ]
    },
    {
     "name": "stderr",
     "output_type": "stream",
     "text": [
      "Consolidating memories by date:  14%|█▎        | 1699/12385 [03:37<33:42,  5.28it/s]  "
     ]
    },
    {
     "name": "stdout",
     "output_type": "stream",
     "text": [
      "\n",
      "Saving intermediate progress (2350 memories so far)...\n"
     ]
    },
    {
     "name": "stderr",
     "output_type": "stream",
     "text": [
      "Consolidating memories by date:  15%|█▌        | 1900/12385 [03:59<1:47:44,  1.62it/s]"
     ]
    },
    {
     "name": "stdout",
     "output_type": "stream",
     "text": [
      "\n",
      "Saving intermediate progress (2612 memories so far)...\n"
     ]
    },
    {
     "name": "stderr",
     "output_type": "stream",
     "text": [
      "Consolidating memories by date:  17%|█▋        | 2100/12385 [04:40<52:34,  3.26it/s]   "
     ]
    },
    {
     "name": "stdout",
     "output_type": "stream",
     "text": [
      "\n",
      "Saving intermediate progress (2887 memories so far)...\n"
     ]
    },
    {
     "name": "stderr",
     "output_type": "stream",
     "text": [
      "Consolidating memories by date:  19%|█▊        | 2300/12385 [05:01<2:11:35,  1.28it/s]"
     ]
    },
    {
     "name": "stdout",
     "output_type": "stream",
     "text": [
      "\n",
      "Saving intermediate progress (3174 memories so far)...\n"
     ]
    },
    {
     "name": "stderr",
     "output_type": "stream",
     "text": [
      "Consolidating memories by date:  20%|██        | 2499/12385 [05:22<35:15,  4.67it/s]  "
     ]
    },
    {
     "name": "stdout",
     "output_type": "stream",
     "text": [
      "\n",
      "Saving intermediate progress (3453 memories so far)...\n"
     ]
    },
    {
     "name": "stderr",
     "output_type": "stream",
     "text": [
      "Consolidating memories by date:  22%|██▏       | 2700/12385 [05:45<1:46:47,  1.51it/s]"
     ]
    },
    {
     "name": "stdout",
     "output_type": "stream",
     "text": [
      "\n",
      "Saving intermediate progress (3748 memories so far)...\n"
     ]
    },
    {
     "name": "stderr",
     "output_type": "stream",
     "text": [
      "Consolidating memories by date:  23%|██▎       | 2900/12385 [06:14<2:33:43,  1.03it/s]"
     ]
    },
    {
     "name": "stdout",
     "output_type": "stream",
     "text": [
      "\n",
      "Saving intermediate progress (4046 memories so far)...\n"
     ]
    },
    {
     "name": "stderr",
     "output_type": "stream",
     "text": [
      "Consolidating memories by date:  25%|██▌       | 3100/12385 [06:36<1:11:49,  2.15it/s]"
     ]
    },
    {
     "name": "stdout",
     "output_type": "stream",
     "text": [
      "\n",
      "Saving intermediate progress (4325 memories so far)...\n"
     ]
    },
    {
     "name": "stderr",
     "output_type": "stream",
     "text": [
      "Consolidating memories by date:  27%|██▋       | 3299/12385 [06:54<19:28,  7.78it/s]  "
     ]
    },
    {
     "name": "stdout",
     "output_type": "stream",
     "text": [
      "\n",
      "Saving intermediate progress (4636 memories so far)...\n"
     ]
    },
    {
     "name": "stderr",
     "output_type": "stream",
     "text": [
      "Consolidating memories by date:  28%|██▊       | 3500/12385 [07:25<1:09:47,  2.12it/s]"
     ]
    },
    {
     "name": "stdout",
     "output_type": "stream",
     "text": [
      "\n",
      "Saving intermediate progress (4940 memories so far)...\n"
     ]
    },
    {
     "name": "stderr",
     "output_type": "stream",
     "text": [
      "Consolidating memories by date:  30%|██▉       | 3699/12385 [07:48<1:02:21,  2.32it/s]"
     ]
    },
    {
     "name": "stdout",
     "output_type": "stream",
     "text": [
      "\n",
      "Saving intermediate progress (5267 memories so far)...\n"
     ]
    },
    {
     "name": "stderr",
     "output_type": "stream",
     "text": [
      "Consolidating memories by date:  31%|███▏      | 3900/12385 [08:16<45:32,  3.11it/s]  "
     ]
    },
    {
     "name": "stdout",
     "output_type": "stream",
     "text": [
      "\n",
      "Saving intermediate progress (5595 memories so far)...\n"
     ]
    },
    {
     "name": "stderr",
     "output_type": "stream",
     "text": [
      "Consolidating memories by date:  33%|███▎      | 4099/12385 [08:38<13:03, 10.57it/s]  "
     ]
    },
    {
     "name": "stdout",
     "output_type": "stream",
     "text": [
      "\n",
      "Saving intermediate progress (5944 memories so far)...\n"
     ]
    },
    {
     "name": "stderr",
     "output_type": "stream",
     "text": [
      "Consolidating memories by date:  35%|███▍      | 4300/12385 [09:15<6:33:58,  2.92s/it]"
     ]
    },
    {
     "name": "stdout",
     "output_type": "stream",
     "text": [
      "\n",
      "Saving intermediate progress (6245 memories so far)...\n"
     ]
    },
    {
     "name": "stderr",
     "output_type": "stream",
     "text": [
      "Consolidating memories by date:  36%|███▋      | 4500/12385 [10:14<52:26,  2.51it/s]   "
     ]
    },
    {
     "name": "stdout",
     "output_type": "stream",
     "text": [
      "\n",
      "Saving intermediate progress (6534 memories so far)...\n"
     ]
    },
    {
     "name": "stderr",
     "output_type": "stream",
     "text": [
      "Consolidating memories by date:  38%|███▊      | 4700/12385 [10:48<4:32:06,  2.12s/it]"
     ]
    },
    {
     "name": "stdout",
     "output_type": "stream",
     "text": [
      "\n",
      "Saving intermediate progress (6828 memories so far)...\n"
     ]
    },
    {
     "name": "stderr",
     "output_type": "stream",
     "text": [
      "Consolidating memories by date:  40%|███▉      | 4900/12385 [11:10<1:38:35,  1.27it/s]"
     ]
    },
    {
     "name": "stdout",
     "output_type": "stream",
     "text": [
      "\n",
      "Saving intermediate progress (7134 memories so far)...\n"
     ]
    },
    {
     "name": "stderr",
     "output_type": "stream",
     "text": [
      "Consolidating memories by date:  41%|████      | 5100/12385 [11:35<51:15,  2.37it/s]  "
     ]
    },
    {
     "name": "stdout",
     "output_type": "stream",
     "text": [
      "\n",
      "Saving intermediate progress (7442 memories so far)...\n"
     ]
    },
    {
     "name": "stderr",
     "output_type": "stream",
     "text": [
      "Consolidating memories by date:  43%|████▎     | 5300/12385 [11:59<52:27,  2.25it/s]  "
     ]
    },
    {
     "name": "stdout",
     "output_type": "stream",
     "text": [
      "\n",
      "Saving intermediate progress (7761 memories so far)...\n"
     ]
    },
    {
     "name": "stderr",
     "output_type": "stream",
     "text": [
      "Consolidating memories by date:  44%|████▍     | 5500/12385 [12:21<1:01:45,  1.86it/s]"
     ]
    },
    {
     "name": "stdout",
     "output_type": "stream",
     "text": [
      "\n",
      "Saving intermediate progress (8070 memories so far)...\n"
     ]
    },
    {
     "name": "stderr",
     "output_type": "stream",
     "text": [
      "Consolidating memories by date:  46%|████▌     | 5700/12385 [12:41<25:47,  4.32it/s]  "
     ]
    },
    {
     "name": "stdout",
     "output_type": "stream",
     "text": [
      "\n",
      "Saving intermediate progress (8375 memories so far)...\n"
     ]
    },
    {
     "name": "stderr",
     "output_type": "stream",
     "text": [
      "Consolidating memories by date:  48%|████▊     | 5900/12385 [13:12<38:38,  2.80it/s]  "
     ]
    },
    {
     "name": "stdout",
     "output_type": "stream",
     "text": [
      "\n",
      "Saving intermediate progress (8690 memories so far)...\n"
     ]
    },
    {
     "name": "stderr",
     "output_type": "stream",
     "text": [
      "Consolidating memories by date:  49%|████▉     | 6100/12385 [13:32<44:21,  2.36it/s]  "
     ]
    },
    {
     "name": "stdout",
     "output_type": "stream",
     "text": [
      "\n",
      "Saving intermediate progress (8982 memories so far)...\n"
     ]
    },
    {
     "name": "stderr",
     "output_type": "stream",
     "text": [
      "Consolidating memories by date:  51%|█████     | 6300/12385 [14:12<8:49:03,  5.22s/it]"
     ]
    },
    {
     "name": "stdout",
     "output_type": "stream",
     "text": [
      "\n",
      "Saving intermediate progress (9304 memories so far)...\n"
     ]
    },
    {
     "name": "stderr",
     "output_type": "stream",
     "text": [
      "Consolidating memories by date:  52%|█████▏    | 6499/12385 [14:31<09:35, 10.23it/s]  "
     ]
    },
    {
     "name": "stdout",
     "output_type": "stream",
     "text": [
      "\n",
      "Saving intermediate progress (9588 memories so far)...\n"
     ]
    },
    {
     "name": "stderr",
     "output_type": "stream",
     "text": [
      "Consolidating memories by date:  54%|█████▍    | 6700/12385 [15:03<1:14:47,  1.27it/s]"
     ]
    },
    {
     "name": "stdout",
     "output_type": "stream",
     "text": [
      "\n",
      "Saving intermediate progress (9928 memories so far)...\n"
     ]
    },
    {
     "name": "stderr",
     "output_type": "stream",
     "text": [
      "Consolidating memories by date:  56%|█████▌    | 6900/12385 [15:33<2:52:00,  1.88s/it]"
     ]
    },
    {
     "name": "stdout",
     "output_type": "stream",
     "text": [
      "\n",
      "Saving intermediate progress (10240 memories so far)...\n"
     ]
    },
    {
     "name": "stderr",
     "output_type": "stream",
     "text": [
      "Consolidating memories by date:  57%|█████▋    | 7100/12385 [15:57<32:34,  2.70it/s]  "
     ]
    },
    {
     "name": "stdout",
     "output_type": "stream",
     "text": [
      "\n",
      "Saving intermediate progress (10546 memories so far)...\n"
     ]
    },
    {
     "name": "stderr",
     "output_type": "stream",
     "text": [
      "Consolidating memories by date:  59%|█████▉    | 7300/12385 [16:18<46:18,  1.83it/s]  "
     ]
    },
    {
     "name": "stdout",
     "output_type": "stream",
     "text": [
      "\n",
      "Saving intermediate progress (10855 memories so far)...\n"
     ]
    },
    {
     "name": "stderr",
     "output_type": "stream",
     "text": [
      "Consolidating memories by date:  61%|██████    | 7499/12385 [16:51<1:15:30,  1.08it/s]"
     ]
    },
    {
     "name": "stdout",
     "output_type": "stream",
     "text": [
      "\n",
      "Saving intermediate progress (11165 memories so far)...\n"
     ]
    },
    {
     "name": "stderr",
     "output_type": "stream",
     "text": [
      "Consolidating memories by date:  62%|██████▏   | 7700/12385 [17:12<26:23,  2.96it/s]  "
     ]
    },
    {
     "name": "stdout",
     "output_type": "stream",
     "text": [
      "\n",
      "Saving intermediate progress (11460 memories so far)...\n"
     ]
    },
    {
     "name": "stderr",
     "output_type": "stream",
     "text": [
      "Consolidating memories by date:  64%|██████▍   | 7900/12385 [17:34<33:39,  2.22it/s]  "
     ]
    },
    {
     "name": "stdout",
     "output_type": "stream",
     "text": [
      "\n",
      "Saving intermediate progress (11751 memories so far)...\n"
     ]
    },
    {
     "name": "stderr",
     "output_type": "stream",
     "text": [
      "Consolidating memories by date:  65%|██████▌   | 8100/12385 [17:54<32:45,  2.18it/s]  "
     ]
    },
    {
     "name": "stdout",
     "output_type": "stream",
     "text": [
      "\n",
      "Saving intermediate progress (12024 memories so far)...\n"
     ]
    },
    {
     "name": "stderr",
     "output_type": "stream",
     "text": [
      "Consolidating memories by date:  67%|██████▋   | 8300/12385 [19:01<7:11:43,  6.34s/it]"
     ]
    },
    {
     "name": "stdout",
     "output_type": "stream",
     "text": [
      "\n",
      "Saving intermediate progress (12316 memories so far)...\n"
     ]
    },
    {
     "name": "stderr",
     "output_type": "stream",
     "text": [
      "Consolidating memories by date:  69%|██████▊   | 8500/12385 [19:58<27:05,  2.39it/s]  "
     ]
    },
    {
     "name": "stdout",
     "output_type": "stream",
     "text": [
      "\n",
      "Saving intermediate progress (12601 memories so far)...\n"
     ]
    },
    {
     "name": "stderr",
     "output_type": "stream",
     "text": [
      "Consolidating memories by date:  70%|███████   | 8700/12385 [20:26<2:02:36,  2.00s/it]"
     ]
    },
    {
     "name": "stdout",
     "output_type": "stream",
     "text": [
      "\n",
      "Saving intermediate progress (12918 memories so far)...\n"
     ]
    },
    {
     "name": "stderr",
     "output_type": "stream",
     "text": [
      "Consolidating memories by date:  72%|███████▏  | 8900/12385 [20:48<20:32,  2.83it/s]  "
     ]
    },
    {
     "name": "stdout",
     "output_type": "stream",
     "text": [
      "\n",
      "Saving intermediate progress (13211 memories so far)...\n"
     ]
    },
    {
     "name": "stderr",
     "output_type": "stream",
     "text": [
      "Consolidating memories by date:  73%|███████▎  | 9099/12385 [21:08<06:14,  8.78it/s]"
     ]
    },
    {
     "name": "stdout",
     "output_type": "stream",
     "text": [
      "\n",
      "Saving intermediate progress (13515 memories so far)...\n"
     ]
    },
    {
     "name": "stderr",
     "output_type": "stream",
     "text": [
      "Consolidating memories by date:  75%|███████▌  | 9300/12385 [21:30<22:07,  2.32it/s]"
     ]
    },
    {
     "name": "stdout",
     "output_type": "stream",
     "text": [
      "\n",
      "Saving intermediate progress (13822 memories so far)...\n"
     ]
    },
    {
     "name": "stderr",
     "output_type": "stream",
     "text": [
      "Consolidating memories by date:  77%|███████▋  | 9500/12385 [21:54<30:30,  1.58it/s]"
     ]
    },
    {
     "name": "stdout",
     "output_type": "stream",
     "text": [
      "\n",
      "Saving intermediate progress (14107 memories so far)...\n"
     ]
    },
    {
     "name": "stderr",
     "output_type": "stream",
     "text": [
      "Consolidating memories by date:  78%|███████▊  | 9700/12385 [22:16<21:27,  2.09it/s]"
     ]
    },
    {
     "name": "stdout",
     "output_type": "stream",
     "text": [
      "\n",
      "Saving intermediate progress (14398 memories so far)...\n"
     ]
    },
    {
     "name": "stderr",
     "output_type": "stream",
     "text": [
      "Consolidating memories by date:  80%|███████▉  | 9900/12385 [22:36<12:35,  3.29it/s]"
     ]
    },
    {
     "name": "stdout",
     "output_type": "stream",
     "text": [
      "\n",
      "Saving intermediate progress (14692 memories so far)...\n"
     ]
    },
    {
     "name": "stderr",
     "output_type": "stream",
     "text": [
      "Consolidating memories by date:  82%|████████▏ | 10100/12385 [22:55<10:23,  3.67it/s]"
     ]
    },
    {
     "name": "stdout",
     "output_type": "stream",
     "text": [
      "\n",
      "Saving intermediate progress (15000 memories so far)...\n"
     ]
    },
    {
     "name": "stderr",
     "output_type": "stream",
     "text": [
      "Consolidating memories by date:  83%|████████▎ | 10300/12385 [23:28<1:06:30,  1.91s/it]"
     ]
    },
    {
     "name": "stdout",
     "output_type": "stream",
     "text": [
      "\n",
      "Saving intermediate progress (15315 memories so far)...\n"
     ]
    },
    {
     "name": "stderr",
     "output_type": "stream",
     "text": [
      "Consolidating memories by date:  85%|████████▍ | 10500/12385 [23:55<29:53,  1.05it/s]  "
     ]
    },
    {
     "name": "stdout",
     "output_type": "stream",
     "text": [
      "\n",
      "Saving intermediate progress (15647 memories so far)...\n"
     ]
    },
    {
     "name": "stderr",
     "output_type": "stream",
     "text": [
      "Consolidating memories by date:  86%|████████▋ | 10700/12385 [24:22<23:18,  1.20it/s]"
     ]
    },
    {
     "name": "stdout",
     "output_type": "stream",
     "text": [
      "\n",
      "Saving intermediate progress (15946 memories so far)...\n"
     ]
    },
    {
     "name": "stderr",
     "output_type": "stream",
     "text": [
      "Consolidating memories by date:  88%|████████▊ | 10900/12385 [24:54<40:28,  1.64s/it]"
     ]
    },
    {
     "name": "stdout",
     "output_type": "stream",
     "text": [
      "\n",
      "Saving intermediate progress (16286 memories so far)...\n"
     ]
    },
    {
     "name": "stderr",
     "output_type": "stream",
     "text": [
      "Consolidating memories by date:  90%|████████▉ | 11100/12385 [25:15<09:08,  2.34it/s]"
     ]
    },
    {
     "name": "stdout",
     "output_type": "stream",
     "text": [
      "\n",
      "Saving intermediate progress (16531 memories so far)...\n"
     ]
    },
    {
     "name": "stderr",
     "output_type": "stream",
     "text": [
      "Consolidating memories by date:  91%|█████████ | 11300/12385 [25:34<04:40,  3.86it/s]"
     ]
    },
    {
     "name": "stdout",
     "output_type": "stream",
     "text": [
      "\n",
      "Saving intermediate progress (16789 memories so far)...\n"
     ]
    },
    {
     "name": "stderr",
     "output_type": "stream",
     "text": [
      "Consolidating memories by date:  93%|█████████▎| 11500/12385 [25:55<06:11,  2.39it/s]"
     ]
    },
    {
     "name": "stdout",
     "output_type": "stream",
     "text": [
      "\n",
      "Saving intermediate progress (17056 memories so far)...\n"
     ]
    },
    {
     "name": "stderr",
     "output_type": "stream",
     "text": [
      "Consolidating memories by date:  94%|█████████▍| 11700/12385 [26:14<03:17,  3.48it/s]"
     ]
    },
    {
     "name": "stdout",
     "output_type": "stream",
     "text": [
      "\n",
      "Saving intermediate progress (17327 memories so far)...\n"
     ]
    },
    {
     "name": "stderr",
     "output_type": "stream",
     "text": [
      "Consolidating memories by date:  96%|█████████▌| 11900/12385 [26:38<07:35,  1.06it/s]"
     ]
    },
    {
     "name": "stdout",
     "output_type": "stream",
     "text": [
      "\n",
      "Saving intermediate progress (17586 memories so far)...\n"
     ]
    },
    {
     "name": "stderr",
     "output_type": "stream",
     "text": [
      "Consolidating memories by date:  98%|█████████▊| 12100/12385 [27:20<24:06,  5.08s/it]"
     ]
    },
    {
     "name": "stdout",
     "output_type": "stream",
     "text": [
      "\n",
      "Saving intermediate progress (17844 memories so far)...\n"
     ]
    },
    {
     "name": "stderr",
     "output_type": "stream",
     "text": [
      "Consolidating memories by date:  99%|█████████▉| 12300/12385 [27:52<00:56,  1.50it/s]"
     ]
    },
    {
     "name": "stdout",
     "output_type": "stream",
     "text": [
      "\n",
      "Saving intermediate progress (18131 memories so far)...\n"
     ]
    },
    {
     "name": "stderr",
     "output_type": "stream",
     "text": [
      "Consolidating memories by date: 100%|██████████| 12385/12385 [28:07<00:00,  7.34it/s]"
     ]
    },
    {
     "name": "stdout",
     "output_type": "stream",
     "text": [
      "\n",
      "Consolidation complete. Reduced 62019 memories to 18245\n",
      "Consolidated memories saved to: IMPersona/data/ben/memory_gpt_4o_consolidated.json\n"
     ]
    },
    {
     "name": "stderr",
     "output_type": "stream",
     "text": [
      "\n"
     ]
    }
   ],
   "source": [
    "# Consolidate the memories by day\n",
    "await memory_module.async_consolidate_by_day_batched(batch_size=100)"
   ]
  },
  {
   "cell_type": "code",
   "execution_count": 3,
   "metadata": {},
   "outputs": [],
   "source": [
    "from IMPersona.memory_module import MemoryModule\n",
    "import json\n",
    "# Initialize the memory module with your existing memory file\n",
    "memory_module = MemoryModule(\n",
    "    conversation_store_file_path=\"IMPersona/data/ben/conversation_store_full_5-300.json\",\n",
    "    impersonation_name=\"Ben\",  # or whatever name you're using\n",
    "    model_name=\"gpt-4o\",  # or whatever model you're using\n",
    "    memory_file_path=\"IMPersona/data/ben/memory_gpt_4o_consolidated.json\"  # your current memory file\n",
    ")"
   ]
  },
  {
   "cell_type": "code",
   "execution_count": 4,
   "metadata": {},
   "outputs": [],
   "source": [
    "memory_by_day = memory_module.group_memories_by_day()\n",
    "\n",
    "with open('IMPersona/data/ben/memory_by_day.json', 'w') as f:\n",
    "    json.dump(memory_by_day, f)"
   ]
  }
 ],
 "metadata": {
  "kernelspec": {
   "display_name": "new_impersona",
   "language": "python",
   "name": "python3"
  },
  "language_info": {
   "codemirror_mode": {
    "name": "ipython",
    "version": 3
   },
   "file_extension": ".py",
   "mimetype": "text/x-python",
   "name": "python",
   "nbconvert_exporter": "python",
   "pygments_lexer": "ipython3",
   "version": "3.12.9"
  }
 },
 "nbformat": 4,
 "nbformat_minor": 2
}
